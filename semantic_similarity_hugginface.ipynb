{
  "nbformat": 4,
  "nbformat_minor": 0,
  "metadata": {
    "colab": {
      "provenance": [],
      "collapsed_sections": []
    },
    "kernelspec": {
      "name": "python3",
      "display_name": "Python 3"
    },
    "language_info": {
      "name": "python"
    },
    "accelerator": "GPU",
    "gpuClass": "standard"
  },
  "cells": [
    {
      "cell_type": "markdown",
      "source": [
        "# How to detect semantic similarity between two Entities "
      ],
      "metadata": {
        "id": "apgDul8oGVS2"
      }
    },
    {
      "cell_type": "markdown",
      "source": [
        "The challenge consists of a dataset in csv format which contains 2 entities in form of company name and a tag stating if they are similar entities or different. Company names from different data sources don’t always match because of different word orders / spaces & special characters / abbreviations / typos / changes in company type (GmbH -> AG) / prefixes and suffixes, etc. \n",
        "### The task \n",
        "1. Return probablity of entities being same. \n",
        "2. Should not be based on Rule methods\n",
        "3. Explore accuracies \n",
        "4. Discuss deployment techniques in brief"
      ],
      "metadata": {
        "id": "JaTXwdQ1cLuT"
      }
    },
    {
      "cell_type": "markdown",
      "source": [
        "### ***SOLUTION***: We take the following steps to discuss this in detail. \n",
        "1.   Import data\n",
        "2.   Explore data - Texts, Distribution etc. \n",
        "3.   Model to return probabilities \n",
        "4.   How do we measure similarity ? thresholds, to prove entity similarity? \n",
        "5.   Discuss accuracies and F1 scores \n",
        "6.   Methods to deploy \n",
        "7.   Conclusion, Improvements and other methods "
      ],
      "metadata": {
        "id": "tLjmQrY3dpH2"
      }
    },
    {
      "cell_type": "markdown",
      "source": [
        "### 1. Import data \n",
        "\n"
      ],
      "metadata": {
        "id": "pxy6Da_ufCtA"
      }
    },
    {
      "cell_type": "markdown",
      "source": [
        "Using pandas to read a dataset consisting of 4 columns \n",
        "1. Index\n",
        "2. Entity 1 \n",
        "3. Entity 2\n",
        "4. Label (Tag) 1=similar 0=different"
      ],
      "metadata": {
        "id": "pQ77jbSNgJnd"
      }
    },
    {
      "cell_type": "code",
      "source": [
        "import pandas as pd\n",
        "\n",
        "df_full =pd.read_csv(\"drive/My Drive/alpas_data/ds_challenge_alpas.csv\")\n",
        "df_full.head()"
      ],
      "metadata": {
        "colab": {
          "base_uri": "https://localhost:8080/",
          "height": 206
        },
        "id": "rFjMVfiC9rko",
        "outputId": "818fac48-6cc8-4bf0-efcd-ad0c60330c8d"
      },
      "execution_count": null,
      "outputs": [
        {
          "output_type": "execute_result",
          "data": {
            "text/plain": [
              "   Unnamed: 0                               entity_1  \\\n",
              "0     3137667                          preciform A.B   \n",
              "1     5515816  degener staplertechnik vertriebs-gmbh   \n",
              "2      215797              Alltel South CaroliNA Inc   \n",
              "3     1004621                        cse Corporation   \n",
              "4     1698689                    Gruppo D Motors Srl   \n",
              "\n",
              "                                            entity_2  tag  \n",
              "0                                       Preciform AB    1  \n",
              "1                                             Irshim    0  \n",
              "2                         alltel south carolina INC.    1  \n",
              "3                                           Cse Corp    1  \n",
              "4  gruppo d motors Sociedad de Resposabilidad Lim...    1  "
            ],
            "text/html": [
              "\n",
              "  <div id=\"df-6df1fb36-674c-4782-bd86-057d06f800fc\">\n",
              "    <div class=\"colab-df-container\">\n",
              "      <div>\n",
              "<style scoped>\n",
              "    .dataframe tbody tr th:only-of-type {\n",
              "        vertical-align: middle;\n",
              "    }\n",
              "\n",
              "    .dataframe tbody tr th {\n",
              "        vertical-align: top;\n",
              "    }\n",
              "\n",
              "    .dataframe thead th {\n",
              "        text-align: right;\n",
              "    }\n",
              "</style>\n",
              "<table border=\"1\" class=\"dataframe\">\n",
              "  <thead>\n",
              "    <tr style=\"text-align: right;\">\n",
              "      <th></th>\n",
              "      <th>Unnamed: 0</th>\n",
              "      <th>entity_1</th>\n",
              "      <th>entity_2</th>\n",
              "      <th>tag</th>\n",
              "    </tr>\n",
              "  </thead>\n",
              "  <tbody>\n",
              "    <tr>\n",
              "      <th>0</th>\n",
              "      <td>3137667</td>\n",
              "      <td>preciform A.B</td>\n",
              "      <td>Preciform AB</td>\n",
              "      <td>1</td>\n",
              "    </tr>\n",
              "    <tr>\n",
              "      <th>1</th>\n",
              "      <td>5515816</td>\n",
              "      <td>degener staplertechnik vertriebs-gmbh</td>\n",
              "      <td>Irshim</td>\n",
              "      <td>0</td>\n",
              "    </tr>\n",
              "    <tr>\n",
              "      <th>2</th>\n",
              "      <td>215797</td>\n",
              "      <td>Alltel South CaroliNA Inc</td>\n",
              "      <td>alltel south carolina INC.</td>\n",
              "      <td>1</td>\n",
              "    </tr>\n",
              "    <tr>\n",
              "      <th>3</th>\n",
              "      <td>1004621</td>\n",
              "      <td>cse Corporation</td>\n",
              "      <td>Cse Corp</td>\n",
              "      <td>1</td>\n",
              "    </tr>\n",
              "    <tr>\n",
              "      <th>4</th>\n",
              "      <td>1698689</td>\n",
              "      <td>Gruppo D Motors Srl</td>\n",
              "      <td>gruppo d motors Sociedad de Resposabilidad Lim...</td>\n",
              "      <td>1</td>\n",
              "    </tr>\n",
              "  </tbody>\n",
              "</table>\n",
              "</div>\n",
              "      <button class=\"colab-df-convert\" onclick=\"convertToInteractive('df-6df1fb36-674c-4782-bd86-057d06f800fc')\"\n",
              "              title=\"Convert this dataframe to an interactive table.\"\n",
              "              style=\"display:none;\">\n",
              "        \n",
              "  <svg xmlns=\"http://www.w3.org/2000/svg\" height=\"24px\"viewBox=\"0 0 24 24\"\n",
              "       width=\"24px\">\n",
              "    <path d=\"M0 0h24v24H0V0z\" fill=\"none\"/>\n",
              "    <path d=\"M18.56 5.44l.94 2.06.94-2.06 2.06-.94-2.06-.94-.94-2.06-.94 2.06-2.06.94zm-11 1L8.5 8.5l.94-2.06 2.06-.94-2.06-.94L8.5 2.5l-.94 2.06-2.06.94zm10 10l.94 2.06.94-2.06 2.06-.94-2.06-.94-.94-2.06-.94 2.06-2.06.94z\"/><path d=\"M17.41 7.96l-1.37-1.37c-.4-.4-.92-.59-1.43-.59-.52 0-1.04.2-1.43.59L10.3 9.45l-7.72 7.72c-.78.78-.78 2.05 0 2.83L4 21.41c.39.39.9.59 1.41.59.51 0 1.02-.2 1.41-.59l7.78-7.78 2.81-2.81c.8-.78.8-2.07 0-2.86zM5.41 20L4 18.59l7.72-7.72 1.47 1.35L5.41 20z\"/>\n",
              "  </svg>\n",
              "      </button>\n",
              "      \n",
              "  <style>\n",
              "    .colab-df-container {\n",
              "      display:flex;\n",
              "      flex-wrap:wrap;\n",
              "      gap: 12px;\n",
              "    }\n",
              "\n",
              "    .colab-df-convert {\n",
              "      background-color: #E8F0FE;\n",
              "      border: none;\n",
              "      border-radius: 50%;\n",
              "      cursor: pointer;\n",
              "      display: none;\n",
              "      fill: #1967D2;\n",
              "      height: 32px;\n",
              "      padding: 0 0 0 0;\n",
              "      width: 32px;\n",
              "    }\n",
              "\n",
              "    .colab-df-convert:hover {\n",
              "      background-color: #E2EBFA;\n",
              "      box-shadow: 0px 1px 2px rgba(60, 64, 67, 0.3), 0px 1px 3px 1px rgba(60, 64, 67, 0.15);\n",
              "      fill: #174EA6;\n",
              "    }\n",
              "\n",
              "    [theme=dark] .colab-df-convert {\n",
              "      background-color: #3B4455;\n",
              "      fill: #D2E3FC;\n",
              "    }\n",
              "\n",
              "    [theme=dark] .colab-df-convert:hover {\n",
              "      background-color: #434B5C;\n",
              "      box-shadow: 0px 1px 3px 1px rgba(0, 0, 0, 0.15);\n",
              "      filter: drop-shadow(0px 1px 2px rgba(0, 0, 0, 0.3));\n",
              "      fill: #FFFFFF;\n",
              "    }\n",
              "  </style>\n",
              "\n",
              "      <script>\n",
              "        const buttonEl =\n",
              "          document.querySelector('#df-6df1fb36-674c-4782-bd86-057d06f800fc button.colab-df-convert');\n",
              "        buttonEl.style.display =\n",
              "          google.colab.kernel.accessAllowed ? 'block' : 'none';\n",
              "\n",
              "        async function convertToInteractive(key) {\n",
              "          const element = document.querySelector('#df-6df1fb36-674c-4782-bd86-057d06f800fc');\n",
              "          const dataTable =\n",
              "            await google.colab.kernel.invokeFunction('convertToInteractive',\n",
              "                                                     [key], {});\n",
              "          if (!dataTable) return;\n",
              "\n",
              "          const docLinkHtml = 'Like what you see? Visit the ' +\n",
              "            '<a target=\"_blank\" href=https://colab.research.google.com/notebooks/data_table.ipynb>data table notebook</a>'\n",
              "            + ' to learn more about interactive tables.';\n",
              "          element.innerHTML = '';\n",
              "          dataTable['output_type'] = 'display_data';\n",
              "          await google.colab.output.renderOutput(dataTable, element);\n",
              "          const docLink = document.createElement('div');\n",
              "          docLink.innerHTML = docLinkHtml;\n",
              "          element.appendChild(docLink);\n",
              "        }\n",
              "      </script>\n",
              "    </div>\n",
              "  </div>\n",
              "  "
            ]
          },
          "metadata": {},
          "execution_count": 2
        }
      ]
    },
    {
      "cell_type": "markdown",
      "source": [
        "### 2. Explore data "
      ],
      "metadata": {
        "id": "2fislOa6f8Q0"
      }
    },
    {
      "cell_type": "code",
      "source": [
        "# importing the required library\n",
        " \n",
        "import seaborn as sns\n",
        "import matplotlib.pyplot as plt\n",
        "# count plot on single categorical variable\n",
        "sns.countplot(x ='tag', data = df_full, palette=\"Set3\")\n",
        "\n",
        "# Show the plot\n",
        "plt.show()"
      ],
      "metadata": {
        "colab": {
          "base_uri": "https://localhost:8080/",
          "height": 290
        },
        "id": "qTiSq8HzGNgy",
        "outputId": "2f4d3420-4296-42c1-9eae-8eabba4559b4"
      },
      "execution_count": null,
      "outputs": [
        {
          "output_type": "display_data",
          "data": {
            "text/plain": [
              "<Figure size 432x288 with 1 Axes>"
            ],
            "image/png": "[encoded data removed]"
          },
          "metadata": {
            "needs_background": "light"
          }
        }
      ]
    },
    {
      "cell_type": "markdown",
      "source": [
        "The plan is to use transformer model and due to limitation of my personal computer (lacking GPU) capacities I am unable to process huge number of rows while using transformer model. (I have tried, but due to high RAM requirement it was difficult to continue) Therefore an alternative is to take a random sub-sample of the dataset. \n",
        "\n",
        "Why Random sun-sample?  in order to retain the ratio of the number of rows we need to do the sampling accordingly. We consider replace as false as we do not want same rows to be repeated in our sub-sample. Random state defines that we are able to re-produce the same sub-sample again with the number 42. "
      ],
      "metadata": {
        "id": "LP2733YTGYfu"
      }
    },
    {
      "cell_type": "code",
      "source": [
        "df = df_full.sample(frac=0.001, replace=False, random_state=42)"
      ],
      "metadata": {
        "id": "5iBvbJaKFkNO"
      },
      "execution_count": null,
      "outputs": []
    },
    {
      "cell_type": "code",
      "source": [
        "# checking number of rows and columns \n",
        "df.shape "
      ],
      "metadata": {
        "colab": {
          "base_uri": "https://localhost:8080/"
        },
        "id": "JyRWpffMBcF2",
        "outputId": "a8bf44b1-9eeb-45c4-a829-0db81d049dd2"
      },
      "execution_count": null,
      "outputs": [
        {
          "output_type": "execute_result",
          "data": {
            "text/plain": [
              "(7043, 4)"
            ]
          },
          "metadata": {},
          "execution_count": 6
        }
      ]
    },
    {
      "cell_type": "code",
      "source": [
        "df.head(5)"
      ],
      "metadata": {
        "colab": {
          "base_uri": "https://localhost:8080/",
          "height": 206
        },
        "id": "t4Ry8UGUJYnQ",
        "outputId": "0ac25089-98af-4f40-af69-a5b0fb8e019c"
      },
      "execution_count": null,
      "outputs": [
        {
          "output_type": "execute_result",
          "data": {
            "text/plain": [
              "         Unnamed: 0                 entity_1                entity_2  tag  \\\n",
              "2350671      490836         batliboi LIMITED            Batliboi Ltd    1   \n",
              "4734450     1366944            exascaler inc           ExaScaler Inc    1   \n",
              "1221001     1602054  general industries Inc.  General Industries Inc    1   \n",
              "3733399     2336638  landers auto group INC.  Landers Auto Group Inc    1   \n",
              "6917916     8552150              wircon gmbh        fonderia augusta    0   \n",
              "\n",
              "         prob_scores  pred  \n",
              "2350671     0.806285     1  \n",
              "4734450     1.000000     1  \n",
              "1221001     0.986246     1  \n",
              "3733399     0.985621     1  \n",
              "6917916     0.148863     0  "
            ],
            "text/html": [
              "\n",
              "  <div id=\"df-47522cb7-d3ea-4a38-ab82-1621f849cf01\">\n",
              "    <div class=\"colab-df-container\">\n",
              "      <div>\n",
              "<style scoped>\n",
              "    .dataframe tbody tr th:only-of-type {\n",
              "        vertical-align: middle;\n",
              "    }\n",
              "\n",
              "    .dataframe tbody tr th {\n",
              "        vertical-align: top;\n",
              "    }\n",
              "\n",
              "    .dataframe thead th {\n",
              "        text-align: right;\n",
              "    }\n",
              "</style>\n",
              "<table border=\"1\" class=\"dataframe\">\n",
              "  <thead>\n",
              "    <tr style=\"text-align: right;\">\n",
              "      <th></th>\n",
              "      <th>Unnamed: 0</th>\n",
              "      <th>entity_1</th>\n",
              "      <th>entity_2</th>\n",
              "      <th>tag</th>\n",
              "      <th>prob_scores</th>\n",
              "      <th>pred</th>\n",
              "    </tr>\n",
              "  </thead>\n",
              "  <tbody>\n",
              "    <tr>\n",
              "      <th>2350671</th>\n",
              "      <td>490836</td>\n",
              "      <td>batliboi LIMITED</td>\n",
              "      <td>Batliboi Ltd</td>\n",
              "      <td>1</td>\n",
              "      <td>0.806285</td>\n",
              "      <td>1</td>\n",
              "    </tr>\n",
              "    <tr>\n",
              "      <th>4734450</th>\n",
              "      <td>1366944</td>\n",
              "      <td>exascaler inc</td>\n",
              "      <td>ExaScaler Inc</td>\n",
              "      <td>1</td>\n",
              "      <td>1.000000</td>\n",
              "      <td>1</td>\n",
              "    </tr>\n",
              "    <tr>\n",
              "      <th>1221001</th>\n",
              "      <td>1602054</td>\n",
              "      <td>general industries Inc.</td>\n",
              "      <td>General Industries Inc</td>\n",
              "      <td>1</td>\n",
              "      <td>0.986246</td>\n",
              "      <td>1</td>\n",
              "    </tr>\n",
              "    <tr>\n",
              "      <th>3733399</th>\n",
              "      <td>2336638</td>\n",
              "      <td>landers auto group INC.</td>\n",
              "      <td>Landers Auto Group Inc</td>\n",
              "      <td>1</td>\n",
              "      <td>0.985621</td>\n",
              "      <td>1</td>\n",
              "    </tr>\n",
              "    <tr>\n",
              "      <th>6917916</th>\n",
              "      <td>8552150</td>\n",
              "      <td>wircon gmbh</td>\n",
              "      <td>fonderia augusta</td>\n",
              "      <td>0</td>\n",
              "      <td>0.148863</td>\n",
              "      <td>0</td>\n",
              "    </tr>\n",
              "  </tbody>\n",
              "</table>\n",
              "</div>\n",
              "      <button class=\"colab-df-convert\" onclick=\"convertToInteractive('df-47522cb7-d3ea-4a38-ab82-1621f849cf01')\"\n",
              "              title=\"Convert this dataframe to an interactive table.\"\n",
              "              style=\"display:none;\">\n",
              "        \n",
              "  <svg xmlns=\"http://www.w3.org/2000/svg\" height=\"24px\"viewBox=\"0 0 24 24\"\n",
              "       width=\"24px\">\n",
              "    <path d=\"M0 0h24v24H0V0z\" fill=\"none\"/>\n",
              "    <path d=\"M18.56 5.44l.94 2.06.94-2.06 2.06-.94-2.06-.94-.94-2.06-.94 2.06-2.06.94zm-11 1L8.5 8.5l.94-2.06 2.06-.94-2.06-.94L8.5 2.5l-.94 2.06-2.06.94zm10 10l.94 2.06.94-2.06 2.06-.94-2.06-.94-.94-2.06-.94 2.06-2.06.94z\"/><path d=\"M17.41 7.96l-1.37-1.37c-.4-.4-.92-.59-1.43-.59-.52 0-1.04.2-1.43.59L10.3 9.45l-7.72 7.72c-.78.78-.78 2.05 0 2.83L4 21.41c.39.39.9.59 1.41.59.51 0 1.02-.2 1.41-.59l7.78-7.78 2.81-2.81c.8-.78.8-2.07 0-2.86zM5.41 20L4 18.59l7.72-7.72 1.47 1.35L5.41 20z\"/>\n",
              "  </svg>\n",
              "      </button>\n",
              "      \n",
              "  <style>\n",
              "    .colab-df-container {\n",
              "      display:flex;\n",
              "      flex-wrap:wrap;\n",
              "      gap: 12px;\n",
              "    }\n",
              "\n",
              "    .colab-df-convert {\n",
              "      background-color: #E8F0FE;\n",
              "      border: none;\n",
              "      border-radius: 50%;\n",
              "      cursor: pointer;\n",
              "      display: none;\n",
              "      fill: #1967D2;\n",
              "      height: 32px;\n",
              "      padding: 0 0 0 0;\n",
              "      width: 32px;\n",
              "    }\n",
              "\n",
              "    .colab-df-convert:hover {\n",
              "      background-color: #E2EBFA;\n",
              "      box-shadow: 0px 1px 2px rgba(60, 64, 67, 0.3), 0px 1px 3px 1px rgba(60, 64, 67, 0.15);\n",
              "      fill: #174EA6;\n",
              "    }\n",
              "\n",
              "    [theme=dark] .colab-df-convert {\n",
              "      background-color: #3B4455;\n",
              "      fill: #D2E3FC;\n",
              "    }\n",
              "\n",
              "    [theme=dark] .colab-df-convert:hover {\n",
              "      background-color: #434B5C;\n",
              "      box-shadow: 0px 1px 3px 1px rgba(0, 0, 0, 0.15);\n",
              "      filter: drop-shadow(0px 1px 2px rgba(0, 0, 0, 0.3));\n",
              "      fill: #FFFFFF;\n",
              "    }\n",
              "  </style>\n",
              "\n",
              "      <script>\n",
              "        const buttonEl =\n",
              "          document.querySelector('#df-47522cb7-d3ea-4a38-ab82-1621f849cf01 button.colab-df-convert');\n",
              "        buttonEl.style.display =\n",
              "          google.colab.kernel.accessAllowed ? 'block' : 'none';\n",
              "\n",
              "        async function convertToInteractive(key) {\n",
              "          const element = document.querySelector('#df-47522cb7-d3ea-4a38-ab82-1621f849cf01');\n",
              "          const dataTable =\n",
              "            await google.colab.kernel.invokeFunction('convertToInteractive',\n",
              "                                                     [key], {});\n",
              "          if (!dataTable) return;\n",
              "\n",
              "          const docLinkHtml = 'Like what you see? Visit the ' +\n",
              "            '<a target=\"_blank\" href=https://colab.research.google.com/notebooks/data_table.ipynb>data table notebook</a>'\n",
              "            + ' to learn more about interactive tables.';\n",
              "          element.innerHTML = '';\n",
              "          dataTable['output_type'] = 'display_data';\n",
              "          await google.colab.output.renderOutput(dataTable, element);\n",
              "          const docLink = document.createElement('div');\n",
              "          docLink.innerHTML = docLinkHtml;\n",
              "          element.appendChild(docLink);\n",
              "        }\n",
              "      </script>\n",
              "    </div>\n",
              "  </div>\n",
              "  "
            ]
          },
          "metadata": {},
          "execution_count": 35
        }
      ]
    },
    {
      "cell_type": "markdown",
      "source": [
        "Here we have a labeled data where Tag column represents whether the two entities are similar or not similar. Some examples of entities are \n",
        "1. batliboi LIMITED\tand Batliboi Ltd which has a tag of 1 and we clearly see that ltd and LIMITED mean the same as per Human interpretation however, it is not a very intuitive process to a machine. \n",
        "2. Whereas, wircon gmbh and fonderia augusta are clearly two different company names. \n",
        "\n",
        "*We see that our sub-sampling technique has retained the ratio or Tag0 and Tag 1 correctly. "
      ],
      "metadata": {
        "id": "oB30_uLSjwRi"
      }
    },
    {
      "cell_type": "code",
      "source": [
        "# importing the required library\n",
        " \n",
        "import seaborn as sns\n",
        "import matplotlib.pyplot as plt\n",
        "# count plot on single categorical variable\n",
        "sns.countplot(x ='tag', data = df, palette=\"Set3\")\n",
        "\n",
        "# Show the plot\n",
        "plt.show()"
      ],
      "metadata": {
        "colab": {
          "base_uri": "https://localhost:8080/",
          "height": 279
        },
        "id": "FCD5waZn_jel",
        "outputId": "6946b7ee-9a94-48f2-f8ec-d9ec2623be6d"
      },
      "execution_count": null,
      "outputs": [
        {
          "output_type": "display_data",
          "data": {
            "text/plain": [
              "<Figure size 432x288 with 1 Axes>"
            ],
            "image/png": "[encoded data removed]"
          },
          "metadata": {
            "needs_background": "light"
          }
        }
      ]
    },
    {
      "cell_type": "markdown",
      "source": [
        "Data distribution shows that we have more labeled data for companies that are different than the companies that are same. The ratio seems to be approximately 2/3. Something to be noted while developing a solution using supervised learning methods. "
      ],
      "metadata": {
        "id": "hENHo5QNkdkv"
      }
    },
    {
      "cell_type": "markdown",
      "source": [
        "### 3.   Model to return probabilities "
      ],
      "metadata": {
        "id": "rbFD2fCthc1c"
      }
    },
    {
      "cell_type": "markdown",
      "source": [
        "In this notebook we design a solution using sentence transformer models. \n",
        "Due to time constrain I decided to provide end to end solution of only 1 model and how it would looks like, the conclusion part will explore other possible solutions. \n",
        " "
      ],
      "metadata": {
        "id": "a6AOfmZ0lVg2"
      }
    },
    {
      "cell_type": "markdown",
      "source": [
        "#### Why sentence transformer model ?\n",
        "1. It is state of the art \n",
        "\n",
        "2. It will capture the entire entity into one single context making it more efficient and accurate.  \n",
        "\n",
        "*For example : Gruppo D Motors Srl and gruppo d motors Sociedad de Resposabilidad Limited. Consider these two entities, the first entity consists of 4 words which will be 4 tokens (considering NLP) and the 2nd entity consists of 7 words i.e. 7 tokens. However, they are refering to the same company and have a tag of 1. Therefore, our algorithm needs to capture the entire context of all the words and then decide on their probalities.*\n",
        "\n",
        "3. Concentrate on semantic similarity of the word rather than syntactic similarity. \n",
        "\n",
        "ltd vs LIMITED, syntactically they are 2 different words but semantically they have very similar meaning. Therefore, our algorithm should assign them very similar probabilities to be accurate. "
      ],
      "metadata": {
        "id": "LL3gDp4llxGI"
      }
    },
    {
      "cell_type": "code",
      "source": [
        "# pip install sentence-transformer \n",
        "!pip install sentence-transformers"
      ],
      "metadata": {
        "id": "OA8R_TJrZmtM"
      },
      "execution_count": null,
      "outputs": []
    },
    {
      "cell_type": "code",
      "source": [
        "# import transformer model \n",
        "from sentence_transformers import SentenceTransformer, util"
      ],
      "metadata": {
        "id": "x1V_EEQMZuTL"
      },
      "execution_count": null,
      "outputs": []
    },
    {
      "cell_type": "code",
      "source": [
        "# We explore and use sentence transformer model all-MiniLM-L6-v2 here \n",
        "model = SentenceTransformer('all-MiniLM-L6-v2')"
      ],
      "metadata": {
        "id": "gT87x8m7Zwk_"
      },
      "execution_count": null,
      "outputs": []
    },
    {
      "cell_type": "markdown",
      "source": [
        "The model details can be found her : https://huggingface.co/sentence-transformers/all-MiniLM-L6-v2 "
      ],
      "metadata": {
        "id": "CY9yoxKnomYB"
      }
    },
    {
      "cell_type": "markdown",
      "source": [
        "Taking a small example to explain how the model works. We take the given 3 entities here, 2 are same 1 is different. "
      ],
      "metadata": {
        "id": "riaID58ipOKv"
      }
    },
    {
      "cell_type": "code",
      "source": [
        "ent_1 = ['preciform A.B',\n",
        "          'degener staplertechnik vertriebs-gmbh',\n",
        "          'Alltel South CaroliNA Inc']\n",
        "\n",
        "ent_2 = ['Preciform AB',\n",
        "           'Irshim',\n",
        "          'alltel south carolina INC.']"
      ],
      "metadata": {
        "id": "xmTLP7vDZwnH"
      },
      "execution_count": null,
      "outputs": []
    },
    {
      "cell_type": "code",
      "source": [
        "print(type(ent_1))"
      ],
      "metadata": {
        "colab": {
          "base_uri": "https://localhost:8080/"
        },
        "id": "HYzG40WqZ9Pk",
        "outputId": "21dd71b9-ddfc-4d47-d4de-aac886db7c1e"
      },
      "execution_count": null,
      "outputs": [
        {
          "output_type": "stream",
          "name": "stdout",
          "text": [
            "<class 'list'>\n"
          ]
        }
      ]
    },
    {
      "cell_type": "markdown",
      "source": [
        "We use the pre-trained ***all-MiniLM-L6-v2*** to create contextualized word embedding using the model for our companies. \n",
        "\n",
        "em_1 creates embeddings for entities in list 1 and em_2 creates embedding for entities in list 2. "
      ],
      "metadata": {
        "id": "cKQsr4n9paj3"
      }
    },
    {
      "cell_type": "code",
      "source": [
        "em_1 = model.encode(ent_1)\n",
        "em_2 = model.encode(ent_2)"
      ],
      "metadata": {
        "id": "FJc3fnOTaaXq"
      },
      "execution_count": null,
      "outputs": []
    },
    {
      "cell_type": "markdown",
      "source": [
        "Based on the embedding created from our model we now see what is the cosine distance between the two entities. Why cosine distance ? We use cosine distance in this example as it is one of the popular ways to measure distance between two vectors/datapoints. It is given by the following formula: \n",
        "\n",
        "`Cos(x, y) = x . y / ||x|| * ||y||`\n",
        "\n",
        "Here is a blog that define more on similarity calculation : https://www.geeksforgeeks.org/cosine-similarity/ \n",
        "\n",
        "Other popular measures are Euclidean, Manhattan, Jaccard etc. but we go ahead with cosine for this problem. "
      ],
      "metadata": {
        "id": "0yKEpIyzqA5B"
      }
    },
    {
      "cell_type": "code",
      "source": [
        "# compare cosine similarity between em_1 and em_2 that is entity1 and entity2 \n",
        "cosine_scores = util.cos_sim(em_1, em_2)\n",
        "print(type(cosine_scores))\n",
        "print(cosine_scores)"
      ],
      "metadata": {
        "colab": {
          "base_uri": "https://localhost:8080/"
        },
        "id": "cIJDfdMEaf19",
        "outputId": "58cf3030-63a5-4143-c3db-8e6966836a1b"
      },
      "execution_count": null,
      "outputs": [
        {
          "output_type": "stream",
          "name": "stdout",
          "text": [
            "<class 'torch.Tensor'>\n",
            "tensor([[0.7796, 0.0341, 0.1603],\n",
            "        [0.1855, 0.1346, 0.3083],\n",
            "        [0.1986, 0.1503, 0.9893]])\n"
          ]
        }
      ]
    },
    {
      "cell_type": "markdown",
      "source": [
        "We see in the above result that is gives us a list of probablities if the two entities are similar. "
      ],
      "metadata": {
        "id": "W7FedFigsOYk"
      }
    },
    {
      "cell_type": "code",
      "source": [
        "for i in range(len(ent_1)):\n",
        "    result = cosine_scores[i][i].item()\n",
        "    print(\"sent_1: \", ent_1[i])\n",
        "    print(\"sent_2: \", ent_2[i])\n",
        "    print(\"result: \", result)\n",
        "    print(\"----------------------------------\")"
      ],
      "metadata": {
        "colab": {
          "base_uri": "https://localhost:8080/"
        },
        "id": "k9D0hHFrajgQ",
        "outputId": "607283a2-9a54-4c60-e85c-098568e29131"
      },
      "execution_count": null,
      "outputs": [
        {
          "output_type": "stream",
          "name": "stdout",
          "text": [
            "sent_1:  preciform A.B\n",
            "sent_2:  Preciform AB\n",
            "result:  0.7795949578285217\n",
            "----------------------------------\n",
            "sent_1:  degener staplertechnik vertriebs-gmbh\n",
            "sent_2:  Irshim\n",
            "result:  0.13464169204235077\n",
            "----------------------------------\n",
            "sent_1:  Alltel South CaroliNA Inc\n",
            "sent_2:  alltel south carolina INC.\n",
            "result:  0.9892873167991638\n",
            "----------------------------------\n"
          ]
        }
      ]
    },
    {
      "cell_type": "markdown",
      "source": [
        "Here we see the preciform A.B is three words and Preciform AB is 2 words also with capital and small letters, even then the model is successfully able to predict that the 2 entites are similar with the confidence/probablity of 0.779. \n",
        "Same with entity 3 Alltel South CaroliNA Inc. \n",
        "But we want to do this on a large scale so we explore how to do that below. We do exactly the same steps but now we perform this on the whole dataframe. "
      ],
      "metadata": {
        "id": "l5-B0R1ts5SQ"
      }
    },
    {
      "cell_type": "code",
      "source": [
        "lst_entity_1 = df['entity_1'].to_list()\n",
        "lst_entity_2 = df['entity_2'].to_list()"
      ],
      "metadata": {
        "id": "bEU4d7nSbEY7"
      },
      "execution_count": null,
      "outputs": []
    },
    {
      "cell_type": "code",
      "source": [
        "print(lst_entity_2[0], lst_entity_1[0])"
      ],
      "metadata": {
        "colab": {
          "base_uri": "https://localhost:8080/"
        },
        "id": "Uw3dWWdTbt1_",
        "outputId": "d3c80bb6-f794-48e9-ef89-ef9131956f95"
      },
      "execution_count": null,
      "outputs": [
        {
          "output_type": "stream",
          "name": "stdout",
          "text": [
            "Batliboi Ltd batliboi LIMITED\n"
          ]
        }
      ]
    },
    {
      "cell_type": "code",
      "source": [
        "print(len(lst_entity_1),len(lst_entity_2))"
      ],
      "metadata": {
        "colab": {
          "base_uri": "https://localhost:8080/"
        },
        "id": "DdapY5UQbVWj",
        "outputId": "02148f43-5adf-4069-c8f7-32fbb74c579c"
      },
      "execution_count": null,
      "outputs": [
        {
          "output_type": "stream",
          "name": "stdout",
          "text": [
            "7043 7043\n"
          ]
        }
      ]
    },
    {
      "cell_type": "code",
      "source": [
        "encode_1 = model.encode(lst_entity_1)\n",
        "encode_2 = model.encode(lst_entity_2)"
      ],
      "metadata": {
        "id": "VxOLNUUsbion"
      },
      "execution_count": null,
      "outputs": []
    },
    {
      "cell_type": "code",
      "source": [
        "cosine_scores = util.cos_sim(encode_1, encode_2)\n",
        "print(type(cosine_scores))"
      ],
      "metadata": {
        "id": "tlmRCDZ9cC1f",
        "colab": {
          "base_uri": "https://localhost:8080/"
        },
        "outputId": "28965178-9f48-4416-9d0f-d5b16d631c5b"
      },
      "execution_count": null,
      "outputs": [
        {
          "output_type": "stream",
          "name": "stdout",
          "text": [
            "<class 'torch.Tensor'>\n"
          ]
        }
      ]
    },
    {
      "cell_type": "code",
      "source": [
        "cosine_scores.shape"
      ],
      "metadata": {
        "colab": {
          "base_uri": "https://localhost:8080/"
        },
        "id": "OuVGpUOZrhxI",
        "outputId": "dfa73af6-eb55-4920-b638-a0ed255c6a33"
      },
      "execution_count": null,
      "outputs": [
        {
          "output_type": "execute_result",
          "data": {
            "text/plain": [
              "torch.Size([7043, 7043])"
            ]
          },
          "metadata": {},
          "execution_count": 21
        }
      ]
    },
    {
      "cell_type": "code",
      "source": [
        "results = []"
      ],
      "metadata": {
        "id": "1O1aysAuub0a"
      },
      "execution_count": null,
      "outputs": []
    },
    {
      "cell_type": "code",
      "source": [
        "for i in range(len(lst_entity_1)):\n",
        "    results.append(cosine_scores[i][i].item())"
      ],
      "metadata": {
        "id": "zmbZssKQdA4j"
      },
      "execution_count": null,
      "outputs": []
    },
    {
      "cell_type": "code",
      "source": [
        "print(type(results), len(results))"
      ],
      "metadata": {
        "colab": {
          "base_uri": "https://localhost:8080/"
        },
        "id": "ijJWfPRlrTDy",
        "outputId": "6899c81c-660d-40fa-f3e9-896f9cb156e0"
      },
      "execution_count": null,
      "outputs": [
        {
          "output_type": "stream",
          "name": "stdout",
          "text": [
            "<class 'list'> 7043\n"
          ]
        }
      ]
    },
    {
      "cell_type": "code",
      "source": [
        "# add the probabilities to the existing dataframe as additional column \n",
        "df['prob_scores'] = results"
      ],
      "metadata": {
        "id": "qxoqG4-UrFSI"
      },
      "execution_count": null,
      "outputs": []
    },
    {
      "cell_type": "markdown",
      "source": [
        "We have added a column called prob_scores that represent the probabilties of each row (entity1 and entity2 being same or different) using method explained above. "
      ],
      "metadata": {
        "id": "DNhIQBqtt8cH"
      }
    },
    {
      "cell_type": "code",
      "source": [
        "df.head()"
      ],
      "metadata": {
        "colab": {
          "base_uri": "https://localhost:8080/",
          "height": 206
        },
        "id": "t0IWXaGwvIhy",
        "outputId": "e476b251-c696-4555-e84e-aad228e4aa23"
      },
      "execution_count": null,
      "outputs": [
        {
          "output_type": "execute_result",
          "data": {
            "text/plain": [
              "         Unnamed: 0                 entity_1                entity_2  tag  \\\n",
              "2350671      490836         batliboi LIMITED            Batliboi Ltd    1   \n",
              "4734450     1366944            exascaler inc           ExaScaler Inc    1   \n",
              "1221001     1602054  general industries Inc.  General Industries Inc    1   \n",
              "3733399     2336638  landers auto group INC.  Landers Auto Group Inc    1   \n",
              "6917916     8552150              wircon gmbh        fonderia augusta    0   \n",
              "\n",
              "         prob_scores  \n",
              "2350671     0.806285  \n",
              "4734450     1.000000  \n",
              "1221001     0.986246  \n",
              "3733399     0.985621  \n",
              "6917916     0.148863  "
            ],
            "text/html": [
              "\n",
              "  <div id=\"df-6b2a013d-d686-4ad0-b4f6-e87dc03bfd48\">\n",
              "    <div class=\"colab-df-container\">\n",
              "      <div>\n",
              "<style scoped>\n",
              "    .dataframe tbody tr th:only-of-type {\n",
              "        vertical-align: middle;\n",
              "    }\n",
              "\n",
              "    .dataframe tbody tr th {\n",
              "        vertical-align: top;\n",
              "    }\n",
              "\n",
              "    .dataframe thead th {\n",
              "        text-align: right;\n",
              "    }\n",
              "</style>\n",
              "<table border=\"1\" class=\"dataframe\">\n",
              "  <thead>\n",
              "    <tr style=\"text-align: right;\">\n",
              "      <th></th>\n",
              "      <th>Unnamed: 0</th>\n",
              "      <th>entity_1</th>\n",
              "      <th>entity_2</th>\n",
              "      <th>tag</th>\n",
              "      <th>prob_scores</th>\n",
              "    </tr>\n",
              "  </thead>\n",
              "  <tbody>\n",
              "    <tr>\n",
              "      <th>2350671</th>\n",
              "      <td>490836</td>\n",
              "      <td>batliboi LIMITED</td>\n",
              "      <td>Batliboi Ltd</td>\n",
              "      <td>1</td>\n",
              "      <td>0.806285</td>\n",
              "    </tr>\n",
              "    <tr>\n",
              "      <th>4734450</th>\n",
              "      <td>1366944</td>\n",
              "      <td>exascaler inc</td>\n",
              "      <td>ExaScaler Inc</td>\n",
              "      <td>1</td>\n",
              "      <td>1.000000</td>\n",
              "    </tr>\n",
              "    <tr>\n",
              "      <th>1221001</th>\n",
              "      <td>1602054</td>\n",
              "      <td>general industries Inc.</td>\n",
              "      <td>General Industries Inc</td>\n",
              "      <td>1</td>\n",
              "      <td>0.986246</td>\n",
              "    </tr>\n",
              "    <tr>\n",
              "      <th>3733399</th>\n",
              "      <td>2336638</td>\n",
              "      <td>landers auto group INC.</td>\n",
              "      <td>Landers Auto Group Inc</td>\n",
              "      <td>1</td>\n",
              "      <td>0.985621</td>\n",
              "    </tr>\n",
              "    <tr>\n",
              "      <th>6917916</th>\n",
              "      <td>8552150</td>\n",
              "      <td>wircon gmbh</td>\n",
              "      <td>fonderia augusta</td>\n",
              "      <td>0</td>\n",
              "      <td>0.148863</td>\n",
              "    </tr>\n",
              "  </tbody>\n",
              "</table>\n",
              "</div>\n",
              "      <button class=\"colab-df-convert\" onclick=\"convertToInteractive('df-6b2a013d-d686-4ad0-b4f6-e87dc03bfd48')\"\n",
              "              title=\"Convert this dataframe to an interactive table.\"\n",
              "              style=\"display:none;\">\n",
              "        \n",
              "  <svg xmlns=\"http://www.w3.org/2000/svg\" height=\"24px\"viewBox=\"0 0 24 24\"\n",
              "       width=\"24px\">\n",
              "    <path d=\"M0 0h24v24H0V0z\" fill=\"none\"/>\n",
              "    <path d=\"M18.56 5.44l.94 2.06.94-2.06 2.06-.94-2.06-.94-.94-2.06-.94 2.06-2.06.94zm-11 1L8.5 8.5l.94-2.06 2.06-.94-2.06-.94L8.5 2.5l-.94 2.06-2.06.94zm10 10l.94 2.06.94-2.06 2.06-.94-2.06-.94-.94-2.06-.94 2.06-2.06.94z\"/><path d=\"M17.41 7.96l-1.37-1.37c-.4-.4-.92-.59-1.43-.59-.52 0-1.04.2-1.43.59L10.3 9.45l-7.72 7.72c-.78.78-.78 2.05 0 2.83L4 21.41c.39.39.9.59 1.41.59.51 0 1.02-.2 1.41-.59l7.78-7.78 2.81-2.81c.8-.78.8-2.07 0-2.86zM5.41 20L4 18.59l7.72-7.72 1.47 1.35L5.41 20z\"/>\n",
              "  </svg>\n",
              "      </button>\n",
              "      \n",
              "  <style>\n",
              "    .colab-df-container {\n",
              "      display:flex;\n",
              "      flex-wrap:wrap;\n",
              "      gap: 12px;\n",
              "    }\n",
              "\n",
              "    .colab-df-convert {\n",
              "      background-color: #E8F0FE;\n",
              "      border: none;\n",
              "      border-radius: 50%;\n",
              "      cursor: pointer;\n",
              "      display: none;\n",
              "      fill: #1967D2;\n",
              "      height: 32px;\n",
              "      padding: 0 0 0 0;\n",
              "      width: 32px;\n",
              "    }\n",
              "\n",
              "    .colab-df-convert:hover {\n",
              "      background-color: #E2EBFA;\n",
              "      box-shadow: 0px 1px 2px rgba(60, 64, 67, 0.3), 0px 1px 3px 1px rgba(60, 64, 67, 0.15);\n",
              "      fill: #174EA6;\n",
              "    }\n",
              "\n",
              "    [theme=dark] .colab-df-convert {\n",
              "      background-color: #3B4455;\n",
              "      fill: #D2E3FC;\n",
              "    }\n",
              "\n",
              "    [theme=dark] .colab-df-convert:hover {\n",
              "      background-color: #434B5C;\n",
              "      box-shadow: 0px 1px 3px 1px rgba(0, 0, 0, 0.15);\n",
              "      filter: drop-shadow(0px 1px 2px rgba(0, 0, 0, 0.3));\n",
              "      fill: #FFFFFF;\n",
              "    }\n",
              "  </style>\n",
              "\n",
              "      <script>\n",
              "        const buttonEl =\n",
              "          document.querySelector('#df-6b2a013d-d686-4ad0-b4f6-e87dc03bfd48 button.colab-df-convert');\n",
              "        buttonEl.style.display =\n",
              "          google.colab.kernel.accessAllowed ? 'block' : 'none';\n",
              "\n",
              "        async function convertToInteractive(key) {\n",
              "          const element = document.querySelector('#df-6b2a013d-d686-4ad0-b4f6-e87dc03bfd48');\n",
              "          const dataTable =\n",
              "            await google.colab.kernel.invokeFunction('convertToInteractive',\n",
              "                                                     [key], {});\n",
              "          if (!dataTable) return;\n",
              "\n",
              "          const docLinkHtml = 'Like what you see? Visit the ' +\n",
              "            '<a target=\"_blank\" href=https://colab.research.google.com/notebooks/data_table.ipynb>data table notebook</a>'\n",
              "            + ' to learn more about interactive tables.';\n",
              "          element.innerHTML = '';\n",
              "          dataTable['output_type'] = 'display_data';\n",
              "          await google.colab.output.renderOutput(dataTable, element);\n",
              "          const docLink = document.createElement('div');\n",
              "          docLink.innerHTML = docLinkHtml;\n",
              "          element.appendChild(docLink);\n",
              "        }\n",
              "      </script>\n",
              "    </div>\n",
              "  </div>\n",
              "  "
            ]
          },
          "metadata": {},
          "execution_count": 26
        }
      ]
    },
    {
      "cell_type": "markdown",
      "source": [
        "### 4.   How do we measure similarity ? thresholds, to prove entity similarity? "
      ],
      "metadata": {
        "id": "t1sPI8g1hm9_"
      }
    },
    {
      "cell_type": "markdown",
      "source": [
        "Now the question is, we have a probabilty score but how to we define based on this probablity score if the entities are similar or not? \n",
        "This is also a problem that can be explored further to compare and to see difference why certain probalities might have been asgined to different entities. \n",
        "\n",
        "Given the time constrain for developing the solution for this problem we decide to go ahead with the threshold score of 0.7. \n",
        "Therefore, if the probability score is above 0.7 then it is safe to say that both the entities are same and if they are below this threshold then the entities are different. "
      ],
      "metadata": {
        "id": "UdxNIy1ZuJqA"
      }
    },
    {
      "cell_type": "code",
      "source": [
        "import numpy as np"
      ],
      "metadata": {
        "id": "dcH61TXwv4Pr"
      },
      "execution_count": null,
      "outputs": []
    },
    {
      "cell_type": "markdown",
      "source": [
        "We define a pred column based on our threshold values discussed above. "
      ],
      "metadata": {
        "id": "5KsSaeMDvFX3"
      }
    },
    {
      "cell_type": "code",
      "source": [
        "df['pred'] = np.where(df['prob_scores']>= 0.7, 1,0)"
      ],
      "metadata": {
        "id": "IFG7DqDKvgDY"
      },
      "execution_count": null,
      "outputs": []
    },
    {
      "cell_type": "code",
      "source": [
        "df.head()"
      ],
      "metadata": {
        "colab": {
          "base_uri": "https://localhost:8080/",
          "height": 206
        },
        "id": "Z6Nl7eSGv7__",
        "outputId": "4eef7a2b-dff6-4e79-cd8a-02e1c6a59acb"
      },
      "execution_count": null,
      "outputs": [
        {
          "output_type": "execute_result",
          "data": {
            "text/plain": [
              "         Unnamed: 0                 entity_1                entity_2  tag  \\\n",
              "2350671      490836         batliboi LIMITED            Batliboi Ltd    1   \n",
              "4734450     1366944            exascaler inc           ExaScaler Inc    1   \n",
              "1221001     1602054  general industries Inc.  General Industries Inc    1   \n",
              "3733399     2336638  landers auto group INC.  Landers Auto Group Inc    1   \n",
              "6917916     8552150              wircon gmbh        fonderia augusta    0   \n",
              "\n",
              "         prob_scores  pred  \n",
              "2350671     0.806285     1  \n",
              "4734450     1.000000     1  \n",
              "1221001     0.986246     1  \n",
              "3733399     0.985621     1  \n",
              "6917916     0.148863     0  "
            ],
            "text/html": [
              "\n",
              "  <div id=\"df-62446594-f9ce-4fae-aadb-d8c5857d8b3c\">\n",
              "    <div class=\"colab-df-container\">\n",
              "      <div>\n",
              "<style scoped>\n",
              "    .dataframe tbody tr th:only-of-type {\n",
              "        vertical-align: middle;\n",
              "    }\n",
              "\n",
              "    .dataframe tbody tr th {\n",
              "        vertical-align: top;\n",
              "    }\n",
              "\n",
              "    .dataframe thead th {\n",
              "        text-align: right;\n",
              "    }\n",
              "</style>\n",
              "<table border=\"1\" class=\"dataframe\">\n",
              "  <thead>\n",
              "    <tr style=\"text-align: right;\">\n",
              "      <th></th>\n",
              "      <th>Unnamed: 0</th>\n",
              "      <th>entity_1</th>\n",
              "      <th>entity_2</th>\n",
              "      <th>tag</th>\n",
              "      <th>prob_scores</th>\n",
              "      <th>pred</th>\n",
              "    </tr>\n",
              "  </thead>\n",
              "  <tbody>\n",
              "    <tr>\n",
              "      <th>2350671</th>\n",
              "      <td>490836</td>\n",
              "      <td>batliboi LIMITED</td>\n",
              "      <td>Batliboi Ltd</td>\n",
              "      <td>1</td>\n",
              "      <td>0.806285</td>\n",
              "      <td>1</td>\n",
              "    </tr>\n",
              "    <tr>\n",
              "      <th>4734450</th>\n",
              "      <td>1366944</td>\n",
              "      <td>exascaler inc</td>\n",
              "      <td>ExaScaler Inc</td>\n",
              "      <td>1</td>\n",
              "      <td>1.000000</td>\n",
              "      <td>1</td>\n",
              "    </tr>\n",
              "    <tr>\n",
              "      <th>1221001</th>\n",
              "      <td>1602054</td>\n",
              "      <td>general industries Inc.</td>\n",
              "      <td>General Industries Inc</td>\n",
              "      <td>1</td>\n",
              "      <td>0.986246</td>\n",
              "      <td>1</td>\n",
              "    </tr>\n",
              "    <tr>\n",
              "      <th>3733399</th>\n",
              "      <td>2336638</td>\n",
              "      <td>landers auto group INC.</td>\n",
              "      <td>Landers Auto Group Inc</td>\n",
              "      <td>1</td>\n",
              "      <td>0.985621</td>\n",
              "      <td>1</td>\n",
              "    </tr>\n",
              "    <tr>\n",
              "      <th>6917916</th>\n",
              "      <td>8552150</td>\n",
              "      <td>wircon gmbh</td>\n",
              "      <td>fonderia augusta</td>\n",
              "      <td>0</td>\n",
              "      <td>0.148863</td>\n",
              "      <td>0</td>\n",
              "    </tr>\n",
              "  </tbody>\n",
              "</table>\n",
              "</div>\n",
              "      <button class=\"colab-df-convert\" onclick=\"convertToInteractive('df-62446594-f9ce-4fae-aadb-d8c5857d8b3c')\"\n",
              "              title=\"Convert this dataframe to an interactive table.\"\n",
              "              style=\"display:none;\">\n",
              "        \n",
              "  <svg xmlns=\"http://www.w3.org/2000/svg\" height=\"24px\"viewBox=\"0 0 24 24\"\n",
              "       width=\"24px\">\n",
              "    <path d=\"M0 0h24v24H0V0z\" fill=\"none\"/>\n",
              "    <path d=\"M18.56 5.44l.94 2.06.94-2.06 2.06-.94-2.06-.94-.94-2.06-.94 2.06-2.06.94zm-11 1L8.5 8.5l.94-2.06 2.06-.94-2.06-.94L8.5 2.5l-.94 2.06-2.06.94zm10 10l.94 2.06.94-2.06 2.06-.94-2.06-.94-.94-2.06-.94 2.06-2.06.94z\"/><path d=\"M17.41 7.96l-1.37-1.37c-.4-.4-.92-.59-1.43-.59-.52 0-1.04.2-1.43.59L10.3 9.45l-7.72 7.72c-.78.78-.78 2.05 0 2.83L4 21.41c.39.39.9.59 1.41.59.51 0 1.02-.2 1.41-.59l7.78-7.78 2.81-2.81c.8-.78.8-2.07 0-2.86zM5.41 20L4 18.59l7.72-7.72 1.47 1.35L5.41 20z\"/>\n",
              "  </svg>\n",
              "      </button>\n",
              "      \n",
              "  <style>\n",
              "    .colab-df-container {\n",
              "      display:flex;\n",
              "      flex-wrap:wrap;\n",
              "      gap: 12px;\n",
              "    }\n",
              "\n",
              "    .colab-df-convert {\n",
              "      background-color: #E8F0FE;\n",
              "      border: none;\n",
              "      border-radius: 50%;\n",
              "      cursor: pointer;\n",
              "      display: none;\n",
              "      fill: #1967D2;\n",
              "      height: 32px;\n",
              "      padding: 0 0 0 0;\n",
              "      width: 32px;\n",
              "    }\n",
              "\n",
              "    .colab-df-convert:hover {\n",
              "      background-color: #E2EBFA;\n",
              "      box-shadow: 0px 1px 2px rgba(60, 64, 67, 0.3), 0px 1px 3px 1px rgba(60, 64, 67, 0.15);\n",
              "      fill: #174EA6;\n",
              "    }\n",
              "\n",
              "    [theme=dark] .colab-df-convert {\n",
              "      background-color: #3B4455;\n",
              "      fill: #D2E3FC;\n",
              "    }\n",
              "\n",
              "    [theme=dark] .colab-df-convert:hover {\n",
              "      background-color: #434B5C;\n",
              "      box-shadow: 0px 1px 3px 1px rgba(0, 0, 0, 0.15);\n",
              "      filter: drop-shadow(0px 1px 2px rgba(0, 0, 0, 0.3));\n",
              "      fill: #FFFFFF;\n",
              "    }\n",
              "  </style>\n",
              "\n",
              "      <script>\n",
              "        const buttonEl =\n",
              "          document.querySelector('#df-62446594-f9ce-4fae-aadb-d8c5857d8b3c button.colab-df-convert');\n",
              "        buttonEl.style.display =\n",
              "          google.colab.kernel.accessAllowed ? 'block' : 'none';\n",
              "\n",
              "        async function convertToInteractive(key) {\n",
              "          const element = document.querySelector('#df-62446594-f9ce-4fae-aadb-d8c5857d8b3c');\n",
              "          const dataTable =\n",
              "            await google.colab.kernel.invokeFunction('convertToInteractive',\n",
              "                                                     [key], {});\n",
              "          if (!dataTable) return;\n",
              "\n",
              "          const docLinkHtml = 'Like what you see? Visit the ' +\n",
              "            '<a target=\"_blank\" href=https://colab.research.google.com/notebooks/data_table.ipynb>data table notebook</a>'\n",
              "            + ' to learn more about interactive tables.';\n",
              "          element.innerHTML = '';\n",
              "          dataTable['output_type'] = 'display_data';\n",
              "          await google.colab.output.renderOutput(dataTable, element);\n",
              "          const docLink = document.createElement('div');\n",
              "          docLink.innerHTML = docLinkHtml;\n",
              "          element.appendChild(docLink);\n",
              "        }\n",
              "      </script>\n",
              "    </div>\n",
              "  </div>\n",
              "  "
            ]
          },
          "metadata": {},
          "execution_count": 29
        }
      ]
    },
    {
      "cell_type": "code",
      "source": [
        "y_true = df['tag'].to_list()\n",
        "y_pred = df['pred'].to_list()"
      ],
      "metadata": {
        "id": "q6QOTMk6wf8D"
      },
      "execution_count": null,
      "outputs": []
    },
    {
      "cell_type": "markdown",
      "source": [
        "### 5.   Discuss accuracies and F1 scores "
      ],
      "metadata": {
        "id": "EkbpL11Ch4AF"
      }
    },
    {
      "cell_type": "markdown",
      "source": [
        "We already have a labeled dataset and know if the entities are similar or not, so now we compare our model performance using the probablity score and prediction variable (based on 0.7 threshold) and actual labels for the entities. \n",
        "\n",
        "\n",
        "y_true is our true label or tag column and \n",
        "\n",
        "\n",
        "y_pred (predicted) is the label from our model (+ threshold 0.7)"
      ],
      "metadata": {
        "id": "v8NjRmTx8J6S"
      }
    },
    {
      "cell_type": "code",
      "source": [
        "# import confusion_matrix from sklearn python library \n",
        "from sklearn.metrics import confusion_matrix\n",
        "cf_matrix = confusion_matrix(y_true, y_pred)"
      ],
      "metadata": {
        "id": "Eol2VKwWwpGd"
      },
      "execution_count": null,
      "outputs": []
    },
    {
      "cell_type": "markdown",
      "source": [
        "Out of the 7043 samples that we shortlisted based on random sampling method 4211 rows consisted of tag 0 (different) and 2832 row consisted of tag 1 (same entities). \n",
        "Our model was able to acheive a 0.97% f1-score to predict whether the entities are same or different. We consider f1-score here instead of accuracy as also considers the false positive and well as false negatives into consideration. \n",
        "\n",
        "\n",
        "**Recall: TP / TP+FN**\n",
        "\n",
        "\n",
        "**Precision: TP / TP+FP**\n",
        "\n",
        "\n",
        "**F1 = 2 * ((Precision*Recall) /Precision + Recall))**"
      ],
      "metadata": {
        "id": "X9hWAfgP85wq"
      }
    },
    {
      "cell_type": "code",
      "source": [
        "from sklearn.metrics import classification_report\n",
        "target_names = ['Label/Tag 0: Different Entity', 'Label/Tag 1:Same Entity']\n",
        "print(classification_report(y_true, y_pred, target_names=target_names))"
      ],
      "metadata": {
        "colab": {
          "base_uri": "https://localhost:8080/"
        },
        "id": "K77JK_PhxRCh",
        "outputId": "dcb79889-6ce3-4c8f-98ca-7b9aa70679e6"
      },
      "execution_count": null,
      "outputs": [
        {
          "output_type": "stream",
          "name": "stdout",
          "text": [
            "                               precision    recall  f1-score   support\n",
            "\n",
            "Label/Tag 0: Different Entity       0.95      1.00      0.98      4211\n",
            "      Label/Tag 1:Same Entity       1.00      0.93      0.96      2832\n",
            "\n",
            "                     accuracy                           0.97      7043\n",
            "                    macro avg       0.98      0.96      0.97      7043\n",
            "                 weighted avg       0.97      0.97      0.97      7043\n",
            "\n"
          ]
        }
      ]
    },
    {
      "cell_type": "markdown",
      "source": [
        "Let us see the confusion matrix. Our model was able to classify all the Tag 0 entities (or mismatch entities) with a wooping 98% f1-score. \n",
        "And Tag 1 (same entities) only 199 out of 2832 were mis-classified. That is a f1-score of 96%\n",
        "The weighted avg comes to around 97% \n",
        "\n",
        "Feel free to go about the visulation of confusion matrix below. "
      ],
      "metadata": {
        "id": "TLyNAZpd_Akd"
      }
    },
    {
      "cell_type": "code",
      "source": [
        "print(cf_matrix)"
      ],
      "metadata": {
        "colab": {
          "base_uri": "https://localhost:8080/"
        },
        "id": "jEq-U3a71TBa",
        "outputId": "e0bb88d8-6d28-4e7d-f0c8-e672df7d38d1"
      },
      "execution_count": null,
      "outputs": [
        {
          "output_type": "stream",
          "name": "stdout",
          "text": [
            "[[4211    0]\n",
            " [ 199 2633]]\n"
          ]
        }
      ]
    },
    {
      "cell_type": "code",
      "source": [
        "group_names = ['True Neg','False Pos','False Neg','True Pos']\n",
        "group_counts = [\"{0:0.0f}\".format(value) for value in\n",
        "                cf_matrix.flatten()]\n",
        "group_percentages = [\"{0:.2%}\".format(value) for value in\n",
        "                     cf_matrix.flatten()/np.sum(cf_matrix)]\n",
        "labels = [f\"{v1}\\n{v2}\\n{v3}\" for v1, v2, v3 in\n",
        "          zip(group_names,group_counts,group_percentages)]\n",
        "labels = np.asarray(labels).reshape(2,2)\n",
        "sns.heatmap(cf_matrix, annot=labels, fmt='', cmap='Blues')"
      ],
      "metadata": {
        "colab": {
          "base_uri": "https://localhost:8080/",
          "height": 283
        },
        "id": "ZK8rea-Wz63R",
        "outputId": "eaaaf718-bd72-4a39-ac02-fdb7f4992ded"
      },
      "execution_count": null,
      "outputs": [
        {
          "output_type": "execute_result",
          "data": {
            "text/plain": [
              "<matplotlib.axes._subplots.AxesSubplot at 0x7fd123c5bb90>"
            ]
          },
          "metadata": {},
          "execution_count": 34
        },
        {
          "output_type": "display_data",
          "data": {
            "text/plain": [
              "<Figure size 432x288 with 2 Axes>"
            ],
            "image/png": "[encoded data removed]"
          },
          "metadata": {
            "needs_background": "light"
          }
        }
      ]
    },
    {
      "cell_type": "markdown",
      "source": [
        "### 6.   Methods to deploy "
      ],
      "metadata": {
        "id": "icel6QGph9yK"
      }
    },
    {
      "cell_type": "markdown",
      "source": [
        "The models from the Huggingface library can be deployed, easily using an API on most of the popular cloud service/ micro service providers such as GCP, AWS or Azure. \n",
        "Here is a blog from Huggingface platform which provides a detailed explaination: \n",
        "https://huggingface.co/blog/how-to-deploy-a-pipeline-to-google-clouds\n"
      ],
      "metadata": {
        "id": "AeC4sRrZAZ1b"
      }
    },
    {
      "cell_type": "markdown",
      "source": [
        "### 7.   Conclusion, Improvements and other methods "
      ],
      "metadata": {
        "id": "Zo6TP-29iEic"
      }
    },
    {
      "cell_type": "markdown",
      "source": [
        "### Conclusion: \n",
        "We can conclude saying that our hypothesis of using a sentence transformer model has worked well. An f1-score of 97% was able to be acheived using this technique to identify the correct entities by a semantic method rather than just relying on their syntax. \n",
        "\n",
        "### Limitations and other methods \n",
        "This notebook explores only 1 of the possibilities to handle the solution. Other libraries that can be explore include, Spacy, Tf-idf, word2vec, Glove based embeddings. (tf-idf, word2vec,glove are older techniques) but this can be explored further if they suit the company use case better. \n",
        "I can also argue that if the older techniques provides a good enough accuracy they these can also be used into production as transformer models can be quick computationally heavy. (this was also one of the reason why only 7043 were considered for the purpose of this notebook, as I lack the computation resource to run more rows with the transformer model, when deploying in cloud service this can be scaled accordingly). \n",
        "Or in case of significant performnce difference, we can also explore other transformer based models compared to the one used in this notebook. \n",
        "There was not much logic used to define the threshold of 0.7, this can be also be a team/management decision and can be discussed further. \n",
        "\n",
        "Also, this notebook only discussed using transformer model directly from the Hugginface library but going further we can also explore how we can fine-tune these models specifically for our company use case.\n",
        " \n"
      ],
      "metadata": {
        "id": "XmiNCLRVBs52"
      }
    }
  ]
}